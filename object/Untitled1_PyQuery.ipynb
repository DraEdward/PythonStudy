{
 "cells": [
  {
   "cell_type": "markdown",
   "metadata": {},
   "source": [
    "# PyQuery"
   ]
  },
  {
   "cell_type": "markdown",
   "metadata": {},
   "source": [
    "## 初始化"
   ]
  },
  {
   "cell_type": "markdown",
   "metadata": {},
   "source": [
    "### 字符串初始化"
   ]
  },
  {
   "cell_type": "code",
   "execution_count": 1,
   "metadata": {},
   "outputs": [
    {
     "name": "stdout",
     "output_type": "stream",
     "text": [
      "<ul>\n",
      "       <li><a>商店 </a></li>\n",
      "       <li><a>社区</a></li>\n",
      "       <li><a>关于</a></li>\n",
      "       <li><a>服务</a></li>\n",
      "      </ul>\n",
      "     \n"
     ]
    }
   ],
   "source": [
    "html = '''\n",
    "<html>\n",
    " <head>\n",
    "  <title>\n",
    "   测试网站\n",
    "  </title>\n",
    " </head>\n",
    " <body>\n",
    "  <div id=\"main\">\n",
    "   <div class=\"logo\">\n",
    "    <a>\n",
    "     <img class=\"lo\" src=\"../img/globalheader_logo.png\"/>\n",
    "    </a>\n",
    "    <!--href=\"steam.html\"-->\n",
    "    <div class=\"nav1\">\n",
    "     <nav>\n",
    "      <ul>\n",
    "       <li><a>商店 </a></li>\n",
    "       <li><a>社区</a></li>\n",
    "       <li><a>关于</a></li>\n",
    "       <li><a>服务</a></li>\n",
    "      </ul>\n",
    "     </nav>\n",
    "    </div>\n",
    "   </div>\n",
    "  </div>\n",
    " </body>\n",
    "</html>\n",
    "'''\n",
    "from pyquery import PyQuery as pq\n",
    "doc = pq(html)\n",
    "print(doc('ul'))\n",
    "\n",
    "\n"
   ]
  },
  {
   "cell_type": "markdown",
   "metadata": {},
   "source": [
    "### URL初始化"
   ]
  },
  {
   "cell_type": "code",
   "execution_count": 14,
   "metadata": {},
   "outputs": [
    {
     "name": "stdout",
     "output_type": "stream",
     "text": [
      "<head><meta http-equiv=\"content-type\" content=\"text/html;charset=utf-8\"/><meta http-equiv=\"X-UA-Compatible\" content=\"IE=Edge\"/><meta content=\"always\" name=\"referrer\"/><link rel=\"stylesheet\" type=\"text/css\" href=\"http://s1.bdstatic.com/r/www/cache/bdorz/baidu.min.css\"/><title>百度一下，你就知道</title></head> \n"
     ]
    }
   ],
   "source": [
    "from pyquery import PyQuery as pq\n",
    "doc = pq(url = 'http://www.baidu.com' , encoding = 'utf-8')\n",
    "print(doc('head'))"
   ]
  },
  {
   "cell_type": "markdown",
   "metadata": {},
   "source": [
    "### 文件初始化"
   ]
  },
  {
   "cell_type": "code",
   "execution_count": 22,
   "metadata": {},
   "outputs": [
    {
     "name": "stdout",
     "output_type": "stream",
     "text": [
      "<head>\n",
      "  <title>\n",
      "   测试网站\n",
      "  </title>\n",
      " </head>\n",
      " \n"
     ]
    }
   ],
   "source": [
    "from pyquery import PyQuery as pq\n",
    "doc = pq(filename = 'demo.html')\n",
    "print(doc('head'))"
   ]
  },
  {
   "cell_type": "markdown",
   "metadata": {},
   "source": [
    "## 基本CSS选择器"
   ]
  },
  {
   "cell_type": "code",
   "execution_count": 28,
   "metadata": {},
   "outputs": [
    {
     "name": "stdout",
     "output_type": "stream",
     "text": [
      "<li><a>商店 </a></li>\n",
      "       <li><a>社区</a></li>\n",
      "       <li><a>关于</a></li>\n",
      "       <li><a>服务</a></li>\n",
      "      \n"
     ]
    }
   ],
   "source": [
    "html = '''\n",
    "<html>\n",
    " <head>\n",
    "  <title>\n",
    "   测试网站\n",
    "  </title>\n",
    " </head>\n",
    " <body>\n",
    "  <div id=\"main\">\n",
    "   <div class=\"logo\">\n",
    "    <a>\n",
    "     <img class=\"lo\" src=\"../img/globalheader_logo.png\"/>\n",
    "    </a>\n",
    "    <!--href=\"steam.html\"-->\n",
    "    <div>\n",
    "     <nav class=\"nav1\">\n",
    "      <ul>\n",
    "       <li><a>商店 </a></li>\n",
    "       <li><a>社区</a></li>\n",
    "       <li><a>关于</a></li>\n",
    "       <li><a>服务</a></li>\n",
    "      </ul>\n",
    "     </nav>\n",
    "    </div>\n",
    "   </div>\n",
    "  </div>\n",
    " </body>\n",
    "</html>\n",
    "'''\n",
    "from pyquery import PyQuery as pq\n",
    "doc = pq(html)\n",
    "print(doc('#main .nav1 li'))"
   ]
  },
  {
   "cell_type": "markdown",
   "metadata": {},
   "source": [
    "## DOM 操作"
   ]
  },
  {
   "cell_type": "markdown",
   "metadata": {},
   "source": [
    "### addClass、removeClass"
   ]
  },
  {
   "cell_type": "markdown",
   "metadata": {},
   "source": [
    "### attrs、css"
   ]
  },
  {
   "cell_type": "markdown",
   "metadata": {},
   "source": [
    "### remove"
   ]
  }
 ],
 "metadata": {
  "kernelspec": {
   "display_name": "Python 3",
   "language": "python",
   "name": "python3"
  },
  "language_info": {
   "codemirror_mode": {
    "name": "ipython",
    "version": 3
   },
   "file_extension": ".py",
   "mimetype": "text/x-python",
   "name": "python",
   "nbconvert_exporter": "python",
   "pygments_lexer": "ipython3",
   "version": "3.7.3"
  }
 },
 "nbformat": 4,
 "nbformat_minor": 2
}

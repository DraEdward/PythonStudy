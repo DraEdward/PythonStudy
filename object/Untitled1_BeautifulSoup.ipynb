{
 "cells": [
  {
   "cell_type": "markdown",
   "metadata": {},
   "source": [
    "# BeautifulSoup"
   ]
  },
  {
   "cell_type": "markdown",
   "metadata": {},
   "source": [
    "### 解析库"
   ]
  },
  {
   "cell_type": "markdown",
   "metadata": {},
   "source": [
    "### 基本使用"
   ]
  },
  {
   "cell_type": "code",
   "execution_count": 2,
   "metadata": {},
   "outputs": [
    {
     "name": "stdout",
     "output_type": "stream",
     "text": [
      "<html>\n",
      " <head>\n",
      "  <title>\n",
      "   测试网站\n",
      "  </title>\n",
      " </head>\n",
      " <body>\n",
      "  <div id=\"main\">\n",
      "   <div class=\"logo\">\n",
      "    <a>\n",
      "     <img class=\"lo\" src=\"../img/globalheader_logo.png\"/>\n",
      "    </a>\n",
      "    <!--href=\"steam.html\"-->\n",
      "    <div class=\"nav1\">\n",
      "     <nav>\n",
      "      <ul>\n",
      "       <li>\n",
      "        <a>\n",
      "         商店\n",
      "        </a>\n",
      "       </li>\n",
      "       <li>\n",
      "        <a>\n",
      "         社区\n",
      "        </a>\n",
      "       </li>\n",
      "       <li>\n",
      "        <a>\n",
      "         关于\n",
      "        </a>\n",
      "       </li>\n",
      "       <li>\n",
      "        <a>\n",
      "         服务\n",
      "        </a>\n",
      "       </li>\n",
      "      </ul>\n",
      "     </nav>\n",
      "    </div>\n",
      "   </div>\n",
      "  </div>\n",
      " </body>\n",
      "</html>\n",
      "测试网站\n"
     ]
    }
   ],
   "source": [
    "html = '''\n",
    "<html>\n",
    "<head>\n",
    "<title>测试网站</title>\n",
    "</head>\n",
    "<body>\n",
    "<div id=\"main\">\n",
    "<div class=\"logo\">\n",
    "<a><img src=\"../img/globalheader_logo.png\" class=\"lo\"/></a> <!--href=\"steam.html\"-->\n",
    "<div class=\"nav1\">\n",
    "<nav>\n",
    "  <ul>\n",
    "  <li><a>商店</a></li>\n",
    "  <li><a>社区</a></li>\n",
    "  <li><a>关于</a></li>\n",
    "  <li><a>服务</a></li>\n",
    "  </ul>\n",
    "  </nav>\n",
    "</div>\n",
    "\n",
    "'''\n",
    "from bs4 import BeautifulSoup\n",
    "soup = BeautifulSoup(html,'lxml')\n",
    "print(soup.prettify())\n",
    "print(soup.title.string)\n"
   ]
  },
  {
   "cell_type": "markdown",
   "metadata": {},
   "source": [
    "## 标签选择器"
   ]
  },
  {
   "cell_type": "markdown",
   "metadata": {},
   "source": [
    "### 选择元素"
   ]
  },
  {
   "cell_type": "code",
   "execution_count": 4,
   "metadata": {},
   "outputs": [
    {
     "name": "stdout",
     "output_type": "stream",
     "text": [
      "<title>测试网站</title>\n",
      "<class 'bs4.element.Tag'>\n",
      "<head>\n",
      "<title>测试网站</title>\n",
      "</head>\n",
      "<a><img class=\"lo\" src=\"../img/globalheader_logo.png\"/></a>\n"
     ]
    }
   ],
   "source": [
    "html = '''\n",
    "<html>\n",
    "<head>\n",
    "<title>测试网站</title>\n",
    "</head>\n",
    "<body>\n",
    "<div id=\"main\">\n",
    "<div class=\"logo\">\n",
    "<a><img src=\"../img/globalheader_logo.png\" class=\"lo\"/></a> <!--href=\"steam.html\"-->\n",
    "<div class=\"nav1\">\n",
    "<nav>\n",
    "  <ul>\n",
    "  <li><a>商店</a></li>\n",
    "  <li><a>社区</a></li>\n",
    "  <li><a>关于</a></li>\n",
    "  <li><a>服务</a></li>\n",
    "  </ul>\n",
    "  </nav>\n",
    "</div>\n",
    "\n",
    "'''\n",
    "from bs4 import BeautifulSoup\n",
    "soup = BeautifulSoup(html,'lxml')\n",
    "print(soup.title)\n",
    "print(type(soup.title))\n",
    "print(soup.head)\n",
    "print(soup.a)\n"
   ]
  },
  {
   "cell_type": "markdown",
   "metadata": {},
   "source": [
    "### 获取名称"
   ]
  },
  {
   "cell_type": "code",
   "execution_count": 7,
   "metadata": {},
   "outputs": [
    {
     "name": "stdout",
     "output_type": "stream",
     "text": [
      "title\n"
     ]
    }
   ],
   "source": [
    "html = '''\n",
    "<html>\n",
    "<head>\n",
    "<title>测试网站</title>\n",
    "</head>\n",
    "<body>\n",
    "<div id=\"main\">\n",
    "<div class=\"logo\">\n",
    "<a><img src=\"../img/globalheader_logo.png\" class=\"lo\"/></a> <!--href=\"steam.html\"-->\n",
    "<div class=\"nav1\">\n",
    "<nav>\n",
    "  <ul>\n",
    "  <li><a>商店</a></li>\n",
    "  <li><a>社区</a></li>\n",
    "  <li><a>关于</a></li>\n",
    "  <li><a>服务</a></li>\n",
    "  </ul>\n",
    "  </nav>\n",
    "</div>\n",
    "\n",
    "'''\n",
    "from bs4 import BeautifulSoup\n",
    "soup = BeautifulSoup(html,'lxml')\n",
    "print(soup.title.name)"
   ]
  },
  {
   "cell_type": "markdown",
   "metadata": {},
   "source": [
    "### 获取属性"
   ]
  },
  {
   "cell_type": "code",
   "execution_count": 10,
   "metadata": {},
   "outputs": [
    {
     "name": "stdout",
     "output_type": "stream",
     "text": [
      "shop\n",
      "shop\n"
     ]
    }
   ],
   "source": [
    "html = '''\n",
    "<html>\n",
    "<head>\n",
    "<title>测试网站</title>\n",
    "</head>\n",
    "<body>\n",
    "<div id=\"main\">\n",
    "<div class=\"logo\">\n",
    "<a><img src=\"../img/globalheader_logo.png\" class=\"lo\"/></a> <!--href=\"steam.html\"-->\n",
    "<div class=\"nav1\">\n",
    "<nav>\n",
    "  <ul>\n",
    "  <li name = 'shop'><a name = 'shop_a'>商店</a></li>\n",
    "  <li><a>社区</a></li>\n",
    "  <li><a>关于</a></li>\n",
    "  <li><a>服务</a></li>\n",
    "  </ul>\n",
    "  </nav>\n",
    "</div>\n",
    "\n",
    "'''\n",
    "from bs4 import BeautifulSoup\n",
    "soup = BeautifulSoup(html,'lxml')\n",
    "print(soup.li.attrs['name'])\n",
    "print(soup.li['name'])"
   ]
  },
  {
   "cell_type": "markdown",
   "metadata": {},
   "source": [
    "### 获取内容"
   ]
  },
  {
   "cell_type": "code",
   "execution_count": 13,
   "metadata": {},
   "outputs": [
    {
     "name": "stdout",
     "output_type": "stream",
     "text": [
      "商店\n"
     ]
    }
   ],
   "source": [
    " html = '''\n",
    "<html>\n",
    "<head>\n",
    "<title>测试网站</title>\n",
    "</head>\n",
    "<body>\n",
    "<div id=\"main\">\n",
    "<div class=\"logo\">\n",
    "<a><img src=\"../img/globalheader_logo.png\" class=\"lo\"/></a> <!--href=\"steam.html\"-->\n",
    "<div class=\"nav1\">\n",
    "<nav>\n",
    "  <ul>\n",
    "  <li name = 'shop'><a name = 'shop_a'>商店</a></li>\n",
    "  <li><a>社区</a></li>\n",
    "  <li><a>关于</a></li>\n",
    "  <li><a>服务</a></li>\n",
    "  </ul>\n",
    "  </nav>\n",
    "</div>\n",
    "\n",
    "'''\n",
    "from bs4 import BeautifulSoup\n",
    "soup = BeautifulSoup(html,'lxml')\n",
    "print(soup.li.string)"
   ]
  },
  {
   "cell_type": "markdown",
   "metadata": {},
   "source": [
    "### 嵌套选择 "
   ]
  },
  {
   "cell_type": "code",
   "execution_count": 15,
   "metadata": {},
   "outputs": [
    {
     "name": "stdout",
     "output_type": "stream",
     "text": [
      "商店\n"
     ]
    }
   ],
   "source": [
    "html = '''\n",
    "<html>\n",
    "<head>\n",
    "<title>测试网站</title>\n",
    "</head>\n",
    "<body>\n",
    "<div id=\"main\">\n",
    "<div class=\"logo\">\n",
    "<a><img src=\"../img/globalheader_logo.png\" class=\"lo\"/></a> <!--href=\"steam.html\"-->\n",
    "<div class=\"nav1\">\n",
    "<nav>\n",
    "  <ul>\n",
    "  <li name = 'shop'><a name = 'shop_a'>商店</a></li>\n",
    "  <li><a>社区</a></li>\n",
    "  <li><a>关于</a></li>\n",
    "  <li><a>服务</a></li>\n",
    "  </ul>\n",
    "  </nav>\n",
    "</div>\n",
    "\n",
    "'''\n",
    "from bs4 import BeautifulSoup\n",
    "soup = BeautifulSoup(html,'lxml')\n",
    "print(soup.li.a.string)"
   ]
  },
  {
   "cell_type": "markdown",
   "metadata": {},
   "source": [
    "### 子节点和子孙节点"
   ]
  },
  {
   "cell_type": "code",
   "execution_count": 18,
   "metadata": {},
   "outputs": [
    {
     "name": "stdout",
     "output_type": "stream",
     "text": [
      "['\\n', <li name=\"shop\"><a name=\"shop_a\">商店</a></li>, '\\n', <li><a>社区</a></li>, '\\n', <li><a>关于</a></li>, '\\n', <li><a>服务</a></li>, '\\n']\n"
     ]
    }
   ],
   "source": [
    "html = '''\n",
    "<html>\n",
    "<head>\n",
    "<title>测试网站</title>\n",
    "</head>\n",
    "<body>\n",
    "<div id=\"main\">\n",
    "<div class=\"logo\">\n",
    "<a><img src=\"../img/globalheader_logo.png\" class=\"lo\"/></a> <!--href=\"steam.html\"-->\n",
    "<div class=\"nav1\">\n",
    "<nav>\n",
    "  <ul>\n",
    "  <li name = 'shop'><a name = 'shop_a'>商店</a></li>\n",
    "  <li><a>社区</a></li>\n",
    "  <li><a>关于</a></li>\n",
    "  <li><a>服务</a></li>\n",
    "  </ul>\n",
    "  </nav>\n",
    "</div>\n",
    "\n",
    "'''\n",
    "from bs4 import BeautifulSoup\n",
    "soup = BeautifulSoup(html,'lxml')\n",
    "print(soup.ul.contents)"
   ]
  },
  {
   "cell_type": "code",
   "execution_count": 22,
   "metadata": {},
   "outputs": [
    {
     "name": "stdout",
     "output_type": "stream",
     "text": [
      "<list_iterator object at 0x00000157AE035BE0>\n",
      "0 \n",
      "\n",
      "1 <li name=\"shop\"><a name=\"shop_a\">商店</a></li>\n",
      "2 \n",
      "\n",
      "3 <li><a>社区</a></li>\n",
      "4 \n",
      "\n",
      "5 <li><a>关于</a></li>\n",
      "6 \n",
      "\n",
      "7 <li><a>服务</a></li>\n",
      "8 \n",
      "\n"
     ]
    }
   ],
   "source": [
    "html = '''\n",
    "<html>\n",
    "<head>\n",
    "<title>测试网站</title>\n",
    "</head>\n",
    "<body>\n",
    "<div id=\"main\">\n",
    "<div class=\"logo\">\n",
    "<a><img src=\"../img/globalheader_logo.png\" class=\"lo\"/></a> <!--href=\"steam.html\"-->\n",
    "<div class=\"nav1\">\n",
    "<nav>\n",
    "  <ul>\n",
    "  <li name = 'shop'><a name = 'shop_a'>商店</a></li>\n",
    "  <li><a>社区</a></li>\n",
    "  <li><a>关于</a></li>\n",
    "  <li><a>服务</a></li>\n",
    "  </ul>\n",
    "  </nav>\n",
    "</div>\n",
    "\n",
    "'''\n",
    "from bs4 import BeautifulSoup\n",
    "soup = BeautifulSoup(html,'lxml')\n",
    "print(soup.ul.children)\n",
    "for i,child in enumerate(soup.ul.children):\n",
    "    print (i,child)"
   ]
  },
  {
   "cell_type": "code",
   "execution_count": 1,
   "metadata": {},
   "outputs": [
    {
     "name": "stdout",
     "output_type": "stream",
     "text": [
      "<generator object Tag.descendants at 0x00000239636E4228>\n",
      "0 \n",
      "\n",
      "1 <li><a>商店</a></li>\n",
      "2 <a>商店</a>\n",
      "3 商店\n",
      "4 \n",
      "\n",
      "5 <li><a>社区</a></li>\n",
      "6 <a>社区</a>\n",
      "7 社区\n",
      "8 \n",
      "\n",
      "9 <li><a>关于</a></li>\n",
      "10 <a>关于</a>\n",
      "11 关于\n",
      "12 \n",
      "\n",
      "13 <li><a>服务</a></li>\n",
      "14 <a>服务</a>\n",
      "15 服务\n",
      "16 \n",
      "\n"
     ]
    }
   ],
   "source": [
    "html = '''\n",
    "<html>\n",
    "<head>\n",
    "<title>测试网站</title>\n",
    "</head>\n",
    "<body>\n",
    "<div id=\"main\">\n",
    "<div class=\"logo\">\n",
    "<a><img src=\"../img/globalheader_logo.png\" class=\"lo\"/></a> <!--href=\"steam.html\"-->\n",
    "<div class=\"nav1\">\n",
    "<nav>\n",
    "  <ul>\n",
    "  <li><a>商店</a></li>\n",
    "  <li><a>社区</a></li>\n",
    "  <li><a>关于</a></li>\n",
    "  <li><a>服务</a></li>\n",
    "  </ul>\n",
    "  </nav>\n",
    "</div>\n",
    "\n",
    "'''\n",
    "from bs4 import BeautifulSoup\n",
    "soup = BeautifulSoup(html,'lxml')\n",
    "print(soup.ul.descendants)\n",
    "for i,child in enumerate(soup.ul.descendants):\n",
    "    print (i,child)"
   ]
  },
  {
   "cell_type": "markdown",
   "metadata": {},
   "source": [
    "## find_all\n",
    "\n",
    "#### 可根据标签名\\属性\\内容寻找文档"
   ]
  },
  {
   "cell_type": "markdown",
   "metadata": {},
   "source": [
    "### name"
   ]
  },
  {
   "cell_type": "code",
   "execution_count": 4,
   "metadata": {},
   "outputs": [
    {
     "name": "stdout",
     "output_type": "stream",
     "text": [
      "[<li><a>商店</a></li>, <li><a>社区</a></li>, <li><a>关于</a></li>, <li><a>服务</a></li>]\n",
      "<li><a>关于</a></li>\n"
     ]
    }
   ],
   "source": [
    "html = '''\n",
    "<html>\n",
    "<head>\n",
    "<title>测试网站</title>\n",
    "</head>\n",
    "<body>\n",
    "<div id=\"main\">\n",
    "<div class=\"logo\">\n",
    "<a><img src=\"../img/globalheader_logo.png\" class=\"lo\"/></a> <!--href=\"steam.html\"-->\n",
    "<div class=\"nav1\">\n",
    "<nav>\n",
    "  <ul>\n",
    "  <li><a>商店</a></li>\n",
    "  <li><a>社区</a></li>\n",
    "  <li><a>关于</a></li>\n",
    "  <li><a>服务</a></li>\n",
    "  </ul>\n",
    "  </nav>\n",
    "</div>\n",
    "\n",
    "'''\n",
    "from bs4 import BeautifulSoup\n",
    "soup = BeautifulSoup(html,'lxml')\n",
    "print(soup.find_all('li'))\n",
    "print(soup.find_all('li')[2])"
   ]
  },
  {
   "cell_type": "markdown",
   "metadata": {},
   "source": [
    "### attr"
   ]
  },
  {
   "cell_type": "code",
   "execution_count": 9,
   "metadata": {
    "scrolled": false
   },
   "outputs": [
    {
     "name": "stdout",
     "output_type": "stream",
     "text": [
      "[<div class=\"nav1\">\n",
      "<nav>\n",
      "<ul>\n",
      "<li><a>商店</a></li>\n",
      "<li><a>社区</a></li>\n",
      "<li><a>关于</a></li>\n",
      "<li><a>服务</a></li>\n",
      "</ul>\n",
      "</nav>\n",
      "</div>]\n",
      "[<div class=\"nav1\">\n",
      "<nav>\n",
      "<ul>\n",
      "<li><a>商店</a></li>\n",
      "<li><a>社区</a></li>\n",
      "<li><a>关于</a></li>\n",
      "<li><a>服务</a></li>\n",
      "</ul>\n",
      "</nav>\n",
      "</div>]\n"
     ]
    }
   ],
   "source": [
    "html = '''\n",
    "<html>\n",
    "<head>\n",
    "<title>测试网站</title>\n",
    "</head>\n",
    "<body>\n",
    "<div id=\"main\">\n",
    "<div class=\"logo\">\n",
    "<a><img src=\"../img/globalheader_logo.png\" class=\"lo\"/></a> <!--href=\"steam.html\"-->\n",
    "<div class=\"nav1\">\n",
    "<nav>\n",
    "  <ul>\n",
    "  <li><a>商店</a></li>\n",
    "  <li><a>社区</a></li>\n",
    "  <li><a>关于</a></li>\n",
    "  <li><a>服务</a></li>\n",
    "  </ul>\n",
    "  </nav>\n",
    "</div>\n",
    "\n",
    "'''\n",
    "from bs4 import BeautifulSoup\n",
    "soup = BeautifulSoup(html,'lxml')\n",
    "print(soup.find_all(attrs={'class':'nav1'}))\n",
    "print(soup.find_all(class_='nav1'))"
   ]
  },
  {
   "cell_type": "markdown",
   "metadata": {},
   "source": [
    "### text"
   ]
  },
  {
   "cell_type": "code",
   "execution_count": 12,
   "metadata": {},
   "outputs": [
    {
     "name": "stdout",
     "output_type": "stream",
     "text": [
      "['服务']\n"
     ]
    }
   ],
   "source": [
    "html = '''\n",
    "<html>\n",
    "<head>\n",
    "<title>测试网站</title>\n",
    "</head>\n",
    "<body>\n",
    "<div id=\"main\">\n",
    "<div class=\"logo\">\n",
    "<a><img src=\"../img/globalheader_logo.png\" class=\"lo\"/></a> <!--href=\"steam.html\"-->\n",
    "<div class=\"nav1\">\n",
    "<nav>\n",
    "  <ul>\n",
    "  <li><a>商店</a></li>\n",
    "  <li><a>社区</a></li>\n",
    "  <li><a>关于</a></li>\n",
    "  <li><a>服务</a></li>\n",
    "  </ul>\n",
    "  </nav>\n",
    "</div>\n",
    "\n",
    "'''\n",
    "from bs4 import BeautifulSoup\n",
    "soup = BeautifulSoup(html,'lxml')\n",
    "print(soup.find_all(text='服务'))"
   ]
  },
  {
   "cell_type": "markdown",
   "metadata": {},
   "source": [
    "## find(name , attrs, recursive , text , **kwargs)\n",
    "\n",
    "### find返回单个元素 , find_all返回所有元素"
   ]
  },
  {
   "cell_type": "code",
   "execution_count": 18,
   "metadata": {},
   "outputs": [
    {
     "name": "stdout",
     "output_type": "stream",
     "text": [
      "<li><a>商店</a></li>\n",
      "<class 'bs4.element.Tag'>\n"
     ]
    }
   ],
   "source": [
    "html = '''\n",
    "<html>\n",
    "<head>\n",
    "<title>测试网站</title>\n",
    "</head>\n",
    "<body>\n",
    "<div id=\"main\">\n",
    "<div class=\"logo\">\n",
    "<a><img src=\"../img/globalheader_logo.png\" class=\"lo\"/></a> <!--href=\"steam.html\"-->\n",
    "<div class=\"nav1\">\n",
    "<nav>\n",
    "  <ul>\n",
    "  <li><a>商店</a></li>\n",
    "  <li><a>社区</a></li>\n",
    "  <li><a>关于</a></li>\n",
    "  <li><a>服务</a></li>\n",
    "  </ul>\n",
    "  </nav>\n",
    "</div>\n",
    "\n",
    "'''\n",
    "\n",
    "from bs4 import BeautifulSoup\n",
    "soup = BeautifulSoup(html,'lxml')\n",
    "print(soup.find('li'))\n",
    "print(type(soup.find('li')))"
   ]
  },
  {
   "cell_type": "markdown",
   "metadata": {},
   "source": [
    "## CSS选择器"
   ]
  },
  {
   "cell_type": "markdown",
   "metadata": {},
   "source": [
    "#### 通过select()直接传入CSS选择器即可进行选择"
   ]
  },
  {
   "cell_type": "code",
   "execution_count": 20,
   "metadata": {},
   "outputs": [
    {
     "name": "stdout",
     "output_type": "stream",
     "text": [
      "[<li><a>商店</a></li>, <li><a>社区</a></li>, <li><a>关于</a></li>, <li><a>服务</a></li>]\n"
     ]
    }
   ],
   "source": [
    "html = '''\n",
    "<html>\n",
    "<head>\n",
    "<title>测试网站</title>\n",
    "</head>\n",
    "<body>\n",
    "<div id=\"main\">\n",
    "<div class=\"logo\">\n",
    "<a><img src=\"../img/globalheader_logo.png\" class=\"lo\"/></a> <!--href=\"steam.html\"-->\n",
    "<div class=\"nav1\">\n",
    "<nav>\n",
    "  <ul>\n",
    "  <li><a>商店</a></li>\n",
    "  <li><a>社区</a></li>\n",
    "  <li><a>关于</a></li>\n",
    "  <li><a>服务</a></li>\n",
    "  </ul>\n",
    "  </nav>\n",
    "</div>\n",
    "\n",
    "'''\n",
    "\n",
    "from bs4 import BeautifulSoup\n",
    "soup = BeautifulSoup(html,'lxml')\n",
    "print(soup.select('ul li'))"
   ]
  },
  {
   "cell_type": "code",
   "execution_count": 26,
   "metadata": {},
   "outputs": [
    {
     "name": "stdout",
     "output_type": "stream",
     "text": [
      "li_1\n",
      "li_2\n",
      "li_3\n",
      "li_4\n"
     ]
    }
   ],
   "source": [
    "html = '''\n",
    "<html>\n",
    "<head>\n",
    "<title>测试网站</title>\n",
    "</head>\n",
    "<body>\n",
    "<div id=\"main\">\n",
    "<div class=\"logo\">\n",
    "<a><img src=\"../img/globalheader_logo.png\" class=\"lo\"/></a> <!--href=\"steam.html\"-->\n",
    "<div class=\"nav1\">\n",
    "<nav>\n",
    "  <ul>\n",
    "  <li id=\"li_1\"><a>商店</a></li>\n",
    "  <li id=\"li_2\"><a>社区</a></li>\n",
    "  <li id=\"li_3\"><a>关于</a></li>\n",
    "  <li id=\"li_4\"><a>服务</a></li>\n",
    "  </ul>\n",
    "  </nav>\n",
    "</div>\n",
    "\n",
    "'''\n",
    "\n",
    "from bs4 import BeautifulSoup\n",
    "soup = BeautifulSoup(html,'lxml')\n",
    "for li in soup.select('li'):\n",
    "    print(li.attrs['id'])"
   ]
  },
  {
   "cell_type": "code",
   "execution_count": 28,
   "metadata": {},
   "outputs": [
    {
     "name": "stdout",
     "output_type": "stream",
     "text": [
      "商店\n",
      "社区\n",
      "关于\n",
      "服务\n"
     ]
    }
   ],
   "source": [
    "html = '''\n",
    "<html>\n",
    "<head>\n",
    "<title>测试网站</title>\n",
    "</head>\n",
    "<body>\n",
    "<div id=\"main\">\n",
    "<div class=\"logo\">\n",
    "<a><img src=\"../img/globalheader_logo.png\" class=\"lo\"/></a> <!--href=\"steam.html\"-->\n",
    "<div class=\"nav1\">\n",
    "<nav>\n",
    "  <ul>\n",
    "  <li id=\"li_1\"><a>商店</a></li>\n",
    "  <li id=\"li_2\"><a>社区</a></li>\n",
    "  <li id=\"li_3\"><a>关于</a></li>\n",
    "  <li id=\"li_4\"><a>服务</a></li>\n",
    "  </ul>\n",
    "  </nav>\n",
    "</div>\n",
    "\n",
    "'''\n",
    "\n",
    "from bs4 import BeautifulSoup\n",
    "soup = BeautifulSoup(html,'lxml')\n",
    "for li in soup.select('li'):\n",
    "    print(li.get_text())\n"
   ]
  },
  {
   "cell_type": "markdown",
   "metadata": {},
   "source": [
    "# 总结"
   ]
  },
  {
   "cell_type": "markdown",
   "metadata": {},
   "source": [
    "<ul>\n",
    "    <li>推荐使用lxml解析库,必要的时候使用html.parser</li>\n",
    "    <li>标签选择器筛选功能弱但速度快</li>\n",
    "    <li>建议使用find(),find_all()查询匹配单个或多个结果</li>\n",
    "    <li>如果对CSS选择器熟悉,建议使用select()</li>\n",
    "    <li>记住常用的获取属性和文本值的方法</li>\n",
    "</ul>"
   ]
  },
  {
   "cell_type": "code",
   "execution_count": null,
   "metadata": {},
   "outputs": [],
   "source": []
  }
 ],
 "metadata": {
  "kernelspec": {
   "display_name": "Python 3",
   "language": "python",
   "name": "python3"
  },
  "language_info": {
   "codemirror_mode": {
    "name": "ipython",
    "version": 3
   },
   "file_extension": ".py",
   "mimetype": "text/x-python",
   "name": "python",
   "nbconvert_exporter": "python",
   "pygments_lexer": "ipython3",
   "version": "3.7.3"
  }
 },
 "nbformat": 4,
 "nbformat_minor": 2
}

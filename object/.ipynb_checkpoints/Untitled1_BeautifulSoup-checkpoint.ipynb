{
 "cells": [
  {
   "cell_type": "markdown",
   "metadata": {},
   "source": [
    "# BeautifulSoup"
   ]
  },
  {
   "cell_type": "markdown",
   "metadata": {},
   "source": [
    "### 解析库"
   ]
  },
  {
   "cell_type": "markdown",
   "metadata": {},
   "source": [
    "### 基本使用"
   ]
  },
  {
   "cell_type": "code",
   "execution_count": 2,
   "metadata": {},
   "outputs": [
    {
     "name": "stdout",
     "output_type": "stream",
     "text": [
      "<html>\n",
      " <head>\n",
      "  <title>\n",
      "   测试网站\n",
      "  </title>\n",
      " </head>\n",
      " <body>\n",
      "  <div id=\"main\">\n",
      "   <div class=\"logo\">\n",
      "    <a>\n",
      "     <img class=\"lo\" src=\"../img/globalheader_logo.png\"/>\n",
      "    </a>\n",
      "    <!--href=\"steam.html\"-->\n",
      "    <div class=\"nav1\">\n",
      "     <nav>\n",
      "      <ul>\n",
      "       <li>\n",
      "        <a>\n",
      "         商店\n",
      "        </a>\n",
      "       </li>\n",
      "       <li>\n",
      "        <a>\n",
      "         社区\n",
      "        </a>\n",
      "       </li>\n",
      "       <li>\n",
      "        <a>\n",
      "         关于\n",
      "        </a>\n",
      "       </li>\n",
      "       <li>\n",
      "        <a>\n",
      "         服务\n",
      "        </a>\n",
      "       </li>\n",
      "      </ul>\n",
      "     </nav>\n",
      "    </div>\n",
      "   </div>\n",
      "  </div>\n",
      " </body>\n",
      "</html>\n",
      "测试网站\n"
     ]
    }
   ],
   "source": [
    "html = '''\n",
    "<html>\n",
    "<head>\n",
    "<title>测试网站</title>\n",
    "</head>\n",
    "<body>\n",
    "<div id=\"main\">\n",
    "<div class=\"logo\">\n",
    "<a><img src=\"../img/globalheader_logo.png\" class=\"lo\"/></a> <!--href=\"steam.html\"-->\n",
    "<div class=\"nav1\">\n",
    "<nav>\n",
    "  <ul>\n",
    "  <li><a>商店</a></li>\n",
    "  <li><a>社区</a></li>\n",
    "  <li><a>关于</a></li>\n",
    "  <li><a>服务</a></li>\n",
    "  </ul>\n",
    "  </nav>\n",
    "</div>\n",
    "\n",
    "'''\n",
    "from bs4 import BeautifulSoup\n",
    "soup = BeautifulSoup(html,'lxml')\n",
    "print(soup.prettify())\n",
    "print(soup.title.string)\n"
   ]
  },
  {
   "cell_type": "markdown",
   "metadata": {},
   "source": [
    "## 标签选择器"
   ]
  },
  {
   "cell_type": "markdown",
   "metadata": {},
   "source": [
    "### 选择元素"
   ]
  },
  {
   "cell_type": "code",
   "execution_count": 4,
   "metadata": {},
   "outputs": [
    {
     "name": "stdout",
     "output_type": "stream",
     "text": [
      "<title>测试网站</title>\n",
      "<class 'bs4.element.Tag'>\n",
      "<head>\n",
      "<title>测试网站</title>\n",
      "</head>\n",
      "<a><img class=\"lo\" src=\"../img/globalheader_logo.png\"/></a>\n"
     ]
    }
   ],
   "source": [
    "html = '''\n",
    "<html>\n",
    "<head>\n",
    "<title>测试网站</title>\n",
    "</head>\n",
    "<body>\n",
    "<div id=\"main\">\n",
    "<div class=\"logo\">\n",
    "<a><img src=\"../img/globalheader_logo.png\" class=\"lo\"/></a> <!--href=\"steam.html\"-->\n",
    "<div class=\"nav1\">\n",
    "<nav>\n",
    "  <ul>\n",
    "  <li><a>商店</a></li>\n",
    "  <li><a>社区</a></li>\n",
    "  <li><a>关于</a></li>\n",
    "  <li><a>服务</a></li>\n",
    "  </ul>\n",
    "  </nav>\n",
    "</div>\n",
    "\n",
    "'''\n",
    "from bs4 import BeautifulSoup\n",
    "soup = BeautifulSoup(html,'lxml')\n",
    "print(soup.title)\n",
    "print(type(soup.title))\n",
    "print(soup.head)\n",
    "print(soup.a)\n"
   ]
  },
  {
   "cell_type": "markdown",
   "metadata": {},
   "source": [
    "### 获取名称"
   ]
  },
  {
   "cell_type": "code",
   "execution_count": 7,
   "metadata": {},
   "outputs": [
    {
     "name": "stdout",
     "output_type": "stream",
     "text": [
      "title\n"
     ]
    }
   ],
   "source": [
    "html = '''\n",
    "<html>\n",
    "<head>\n",
    "<title>测试网站</title>\n",
    "</head>\n",
    "<body>\n",
    "<div id=\"main\">\n",
    "<div class=\"logo\">\n",
    "<a><img src=\"../img/globalheader_logo.png\" class=\"lo\"/></a> <!--href=\"steam.html\"-->\n",
    "<div class=\"nav1\">\n",
    "<nav>\n",
    "  <ul>\n",
    "  <li><a>商店</a></li>\n",
    "  <li><a>社区</a></li>\n",
    "  <li><a>关于</a></li>\n",
    "  <li><a>服务</a></li>\n",
    "  </ul>\n",
    "  </nav>\n",
    "</div>\n",
    "\n",
    "'''\n",
    "from bs4 import BeautifulSoup\n",
    "soup = BeautifulSoup(html,'lxml')\n",
    "print(soup.title.name)"
   ]
  },
  {
   "cell_type": "markdown",
   "metadata": {},
   "source": [
    "### 获取属性"
   ]
  },
  {
   "cell_type": "code",
   "execution_count": 10,
   "metadata": {},
   "outputs": [
    {
     "name": "stdout",
     "output_type": "stream",
     "text": [
      "shop\n",
      "shop\n"
     ]
    }
   ],
   "source": [
    "html = '''\n",
    "<html>\n",
    "<head>\n",
    "<title>测试网站</title>\n",
    "</head>\n",
    "<body>\n",
    "<div id=\"main\">\n",
    "<div class=\"logo\">\n",
    "<a><img src=\"../img/globalheader_logo.png\" class=\"lo\"/></a> <!--href=\"steam.html\"-->\n",
    "<div class=\"nav1\">\n",
    "<nav>\n",
    "  <ul>\n",
    "  <li name = 'shop'><a name = 'shop_a'>商店</a></li>\n",
    "  <li><a>社区</a></li>\n",
    "  <li><a>关于</a></li>\n",
    "  <li><a>服务</a></li>\n",
    "  </ul>\n",
    "  </nav>\n",
    "</div>\n",
    "\n",
    "'''\n",
    "from bs4 import BeautifulSoup\n",
    "soup = BeautifulSoup(html,'lxml')\n",
    "print(soup.li.attrs['name'])\n",
    "print(soup.li['name'])"
   ]
  },
  {
   "cell_type": "markdown",
   "metadata": {},
   "source": [
    "### 获取内容"
   ]
  },
  {
   "cell_type": "code",
   "execution_count": 13,
   "metadata": {},
   "outputs": [
    {
     "name": "stdout",
     "output_type": "stream",
     "text": [
      "商店\n"
     ]
    }
   ],
   "source": [
    " html = '''\n",
    "<html>\n",
    "<head>\n",
    "<title>测试网站</title>\n",
    "</head>\n",
    "<body>\n",
    "<div id=\"main\">\n",
    "<div class=\"logo\">\n",
    "<a><img src=\"../img/globalheader_logo.png\" class=\"lo\"/></a> <!--href=\"steam.html\"-->\n",
    "<div class=\"nav1\">\n",
    "<nav>\n",
    "  <ul>\n",
    "  <li name = 'shop'><a name = 'shop_a'>商店</a></li>\n",
    "  <li><a>社区</a></li>\n",
    "  <li><a>关于</a></li>\n",
    "  <li><a>服务</a></li>\n",
    "  </ul>\n",
    "  </nav>\n",
    "</div>\n",
    "\n",
    "'''\n",
    "from bs4 import BeautifulSoup\n",
    "soup = BeautifulSoup(html,'lxml')\n",
    "print(soup.li.string)"
   ]
  },
  {
   "cell_type": "markdown",
   "metadata": {},
   "source": [
    "### 嵌套选择 "
   ]
  },
  {
   "cell_type": "code",
   "execution_count": 15,
   "metadata": {},
   "outputs": [
    {
     "name": "stdout",
     "output_type": "stream",
     "text": [
      "商店\n"
     ]
    }
   ],
   "source": [
    "html = '''\n",
    "<html>\n",
    "<head>\n",
    "<title>测试网站</title>\n",
    "</head>\n",
    "<body>\n",
    "<div id=\"main\">\n",
    "<div class=\"logo\">\n",
    "<a><img src=\"../img/globalheader_logo.png\" class=\"lo\"/></a> <!--href=\"steam.html\"-->\n",
    "<div class=\"nav1\">\n",
    "<nav>\n",
    "  <ul>\n",
    "  <li name = 'shop'><a name = 'shop_a'>商店</a></li>\n",
    "  <li><a>社区</a></li>\n",
    "  <li><a>关于</a></li>\n",
    "  <li><a>服务</a></li>\n",
    "  </ul>\n",
    "  </nav>\n",
    "</div>\n",
    "\n",
    "'''\n",
    "from bs4 import BeautifulSoup\n",
    "soup = BeautifulSoup(html,'lxml')\n",
    "print(soup.li.a.string)"
   ]
  },
  {
   "cell_type": "markdown",
   "metadata": {},
   "source": [
    "### 子节点和子孙节点"
   ]
  },
  {
   "cell_type": "code",
   "execution_count": 18,
   "metadata": {},
   "outputs": [
    {
     "name": "stdout",
     "output_type": "stream",
     "text": [
      "['\\n', <li name=\"shop\"><a name=\"shop_a\">商店</a></li>, '\\n', <li><a>社区</a></li>, '\\n', <li><a>关于</a></li>, '\\n', <li><a>服务</a></li>, '\\n']\n"
     ]
    }
   ],
   "source": [
    "html = '''\n",
    "<html>\n",
    "<head>\n",
    "<title>测试网站</title>\n",
    "</head>\n",
    "<body>\n",
    "<div id=\"main\">\n",
    "<div class=\"logo\">\n",
    "<a><img src=\"../img/globalheader_logo.png\" class=\"lo\"/></a> <!--href=\"steam.html\"-->\n",
    "<div class=\"nav1\">\n",
    "<nav>\n",
    "  <ul>\n",
    "  <li name = 'shop'><a name = 'shop_a'>商店</a></li>\n",
    "  <li><a>社区</a></li>\n",
    "  <li><a>关于</a></li>\n",
    "  <li><a>服务</a></li>\n",
    "  </ul>\n",
    "  </nav>\n",
    "</div>\n",
    "\n",
    "'''\n",
    "from bs4 import BeautifulSoup\n",
    "soup = BeautifulSoup(html,'lxml')\n",
    "print(soup.ul.contents)"
   ]
  },
  {
   "cell_type": "code",
   "execution_count": 22,
   "metadata": {},
   "outputs": [
    {
     "name": "stdout",
     "output_type": "stream",
     "text": [
      "<list_iterator object at 0x00000157AE035BE0>\n",
      "0 \n",
      "\n",
      "1 <li name=\"shop\"><a name=\"shop_a\">商店</a></li>\n",
      "2 \n",
      "\n",
      "3 <li><a>社区</a></li>\n",
      "4 \n",
      "\n",
      "5 <li><a>关于</a></li>\n",
      "6 \n",
      "\n",
      "7 <li><a>服务</a></li>\n",
      "8 \n",
      "\n"
     ]
    }
   ],
   "source": [
    "html = '''\n",
    "<html>\n",
    "<head>\n",
    "<title>测试网站</title>\n",
    "</head>\n",
    "<body>\n",
    "<div id=\"main\">\n",
    "<div class=\"logo\">\n",
    "<a><img src=\"../img/globalheader_logo.png\" class=\"lo\"/></a> <!--href=\"steam.html\"-->\n",
    "<div class=\"nav1\">\n",
    "<nav>\n",
    "  <ul>\n",
    "  <li name = 'shop'><a name = 'shop_a'>商店</a></li>\n",
    "  <li><a>社区</a></li>\n",
    "  <li><a>关于</a></li>\n",
    "  <li><a>服务</a></li>\n",
    "  </ul>\n",
    "  </nav>\n",
    "</div>\n",
    "\n",
    "'''\n",
    "from bs4 import BeautifulSoup\n",
    "soup = BeautifulSoup(html,'lxml')\n",
    "print(soup.ul.children)\n",
    "for i,child in enumerate(soup.ul.children):\n",
    "    print (i,child)"
   ]
  },
  {
   "cell_type": "code",
   "execution_count": 24,
   "metadata": {},
   "outputs": [
    {
     "name": "stdout",
     "output_type": "stream",
     "text": [
      "<generator object Tag.descendants at 0x00000157AE0D4660>\n",
      "0 \n",
      "\n",
      "1 <li><a>商店</a></li>\n",
      "2 <a>商店</a>\n",
      "3 商店\n",
      "4 \n",
      "\n",
      "5 <li><a>社区</a></li>\n",
      "6 <a>社区</a>\n",
      "7 社区\n",
      "8 \n",
      "\n",
      "9 <li><a>关于</a></li>\n",
      "10 <a>关于</a>\n",
      "11 关于\n",
      "12 \n",
      "\n",
      "13 <li><a>服务</a></li>\n",
      "14 <a>服务</a>\n",
      "15 服务\n",
      "16 \n",
      "\n"
     ]
    }
   ],
   "source": [
    "html = '''\n",
    "<html>\n",
    "<head>\n",
    "<title>测试网站</title>\n",
    "</head>\n",
    "<body>\n",
    "<div id=\"main\">\n",
    "<div class=\"logo\">\n",
    "<a><img src=\"../img/globalheader_logo.png\" class=\"lo\"/></a> <!--href=\"steam.html\"-->\n",
    "<div class=\"nav1\">\n",
    "<nav>\n",
    "  <ul>\n",
    "  <li><a>商店</a></li>\n",
    "  <li><a>社区</a></li>\n",
    "  <li><a>关于</a></li>\n",
    "  <li><a>服务</a></li>\n",
    "  </ul>\n",
    "  </nav>\n",
    "</div>\n",
    "\n",
    "'''\n",
    "from bs4 import BeautifulSoup\n",
    "soup = BeautifulSoup(html,'lxml')\n",
    "print(soup.ul.descendants)\n",
    "for i,child in enumerate(soup.ul.descendants):\n",
    "    print (i,child)"
   ]
  }
 ],
 "metadata": {
  "kernelspec": {
   "display_name": "Python 3",
   "language": "python",
   "name": "python3"
  },
  "language_info": {
   "codemirror_mode": {
    "name": "ipython",
    "version": 3
   },
   "file_extension": ".py",
   "mimetype": "text/x-python",
   "name": "python",
   "nbconvert_exporter": "python",
   "pygments_lexer": "ipython3",
   "version": "3.7.3"
  }
 },
 "nbformat": 4,
 "nbformat_minor": 2
}

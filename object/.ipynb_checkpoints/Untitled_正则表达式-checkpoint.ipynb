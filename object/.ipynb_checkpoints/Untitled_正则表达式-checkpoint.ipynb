{
 "cells": [
  {
   "cell_type": "markdown",
   "metadata": {},
   "source": [
    "# 最常规匹配"
   ]
  },
  {
   "cell_type": "code",
   "execution_count": 2,
   "metadata": {},
   "outputs": [
    {
     "name": "stdout",
     "output_type": "stream",
     "text": [
      "41\n",
      "<re.Match object; span=(0, 41), match='Hello 123 4567 World_This is a Regex Demo'>\n",
      "Hello 123 4567 World_This is a Regex Demo\n",
      "(0, 41)\n"
     ]
    }
   ],
   "source": [
    "import re\n",
    "\n",
    "content = 'Hello 123 4567 World_This is a Regex Demo'\n",
    "print(len(content))\n",
    "result = re.match('^Hello\\s\\d\\d\\d\\s\\d{4}\\s\\w{10}.*Demo$',content)\n",
    "print(result)\n",
    "print(result.group())\n",
    "print(result.span())"
   ]
  },
  {
   "cell_type": "markdown",
   "metadata": {},
   "source": [
    "# 泛匹配"
   ]
  },
  {
   "cell_type": "code",
   "execution_count": 3,
   "metadata": {},
   "outputs": [
    {
     "name": "stdout",
     "output_type": "stream",
     "text": [
      "<re.Match object; span=(0, 41), match='Hello 123 4567 World_This is a Regex Demo'>\n",
      "Hello 123 4567 World_This is a Regex Demo\n",
      "(0, 41)\n"
     ]
    }
   ],
   "source": [
    "import re\n",
    "\n",
    "content = 'Hello 123 4567 World_This is a Regex Demo'\n",
    "result = re.match('^Hello.*Demo$',content)\n",
    "print(result)\n",
    "print(result.group())\n",
    "print(result.span())"
   ]
  },
  {
   "cell_type": "markdown",
   "metadata": {},
   "source": [
    "# 匹配目标"
   ]
  },
  {
   "cell_type": "code",
   "execution_count": 10,
   "metadata": {},
   "outputs": [
    {
     "name": "stdout",
     "output_type": "stream",
     "text": [
      "<re.Match object; span=(0, 40), match='Hello 1234567 World_This is a Regex Demo'>\n",
      "World_This\n",
      "(0, 40)\n"
     ]
    }
   ],
   "source": [
    "import re\n",
    "\n",
    "content = 'Hello 1234567 World_This is a Regex Demo'\n",
    "result = re.match('^Hello\\s(\\d+)\\s(\\w+).*Demo$',content)\n",
    "print(result)\n",
    "print(result.group(2))\n",
    "print(result.span())"
   ]
  },
  {
   "cell_type": "markdown",
   "metadata": {},
   "source": [
    "# 贪婪匹配"
   ]
  },
  {
   "cell_type": "code",
   "execution_count": 11,
   "metadata": {},
   "outputs": [
    {
     "name": "stdout",
     "output_type": "stream",
     "text": [
      "<re.Match object; span=(0, 40), match='Hello 1234567 World_This is a Regex Demo'>\n",
      "7\n",
      "(0, 40)\n"
     ]
    }
   ],
   "source": [
    "import re\n",
    "\n",
    "content = 'Hello 1234567 World_This is a Regex Demo'\n",
    "\n",
    "result = re.match('^He.*(\\d+).*Demo$',content)\n",
    "print(result)\n",
    "print(result.group(1))\n",
    "print(result.span())"
   ]
  },
  {
   "cell_type": "markdown",
   "metadata": {},
   "source": [
    "# 非贪婪匹配"
   ]
  },
  {
   "cell_type": "code",
   "execution_count": 12,
   "metadata": {},
   "outputs": [
    {
     "name": "stdout",
     "output_type": "stream",
     "text": [
      "<re.Match object; span=(0, 40), match='Hello 1234567 World_This is a Regex Demo'>\n",
      "1234567\n",
      "(0, 40)\n"
     ]
    }
   ],
   "source": [
    "import re\n",
    "\n",
    "content = 'Hello 1234567 World_This is a Regex Demo'\n",
    "\n",
    "result = re.match('^He.*?(\\d+).*Demo$',content)\n",
    "print(result)\n",
    "print(result.group(1))\n",
    "print(result.span())"
   ]
  },
  {
   "cell_type": "markdown",
   "metadata": {},
   "source": [
    "# 匹配模式"
   ]
  },
  {
   "cell_type": "code",
   "execution_count": 17,
   "metadata": {},
   "outputs": [
    {
     "name": "stdout",
     "output_type": "stream",
     "text": [
      "<re.Match object; span=(0, 40), match='Hello 1234567 World_This\\nis a Regex Demo'>\n",
      "1234567\n",
      "(0, 40)\n"
     ]
    }
   ],
   "source": [
    "import re\n",
    "\n",
    "content = '''Hello 1234567 World_This\n",
    "is a Regex Demo\n",
    "'''\n",
    "\n",
    "result = re.match('^He.*?(\\d+).*?Demo$',content,re.S)\n",
    "print(result)\n",
    "print(result.group(1))\n",
    "print(result.span())"
   ]
  },
  {
   "cell_type": "markdown",
   "metadata": {},
   "source": [
    "# 转义"
   ]
  },
  {
   "cell_type": "code",
   "execution_count": 19,
   "metadata": {},
   "outputs": [
    {
     "name": "stdout",
     "output_type": "stream",
     "text": [
      "<re.Match object; span=(0, 14), match='price is $5.00'>\n"
     ]
    }
   ],
   "source": [
    "import re\n",
    "\n",
    "content = 'price is $5.00'\n",
    "\n",
    "result = re.match('price is \\$5\\.00',content)\n",
    "print(result)"
   ]
  },
  {
   "cell_type": "markdown",
   "metadata": {},
   "source": [
    "总结：尽量使用泛匹配、使用括号得到匹配目标、尽量使用非贪婪匹配模式、有换行符就用re.S"
   ]
  },
  {
   "cell_type": "markdown",
   "metadata": {},
   "source": [
    "# re.search"
   ]
  },
  {
   "cell_type": "code",
   "execution_count": 3,
   "metadata": {},
   "outputs": [
    {
     "name": "stdout",
     "output_type": "stream",
     "text": [
      "<re.Match object; span=(0, 70), match='Artificial intelligence (AI) is an important tech>\n",
      "121212121\n"
     ]
    }
   ],
   "source": [
    "import re\n",
    "\n",
    "content = 'Artificial intelligence (AI) is an important technology that 121212121 supports daily social life and economic activities'\n",
    "result = re.search('.*?(\\d+).*?',content)\n",
    "print(result)\n",
    "print(result.group(1))"
   ]
  },
  {
   "cell_type": "markdown",
   "metadata": {},
   "source": [
    "# 匹配演练"
   ]
  },
  {
   "cell_type": "markdown",
   "metadata": {},
   "source": [
    "re.findall\n",
    "搜索字符，以列表的形式返回全部能匹配的子串。\n",
    "re.sub\n",
    "替换字符串中的子串后返回替换后的字符串"
   ]
  },
  {
   "cell_type": "code",
   "execution_count": 21,
   "metadata": {},
   "outputs": [
    {
     "name": "stdout",
     "output_type": "stream",
     "text": [
      "//www.bilibili.com/audio/home/?type=10 --- 音频\n",
      "//game.bilibili.com --- 游戏中心\n",
      "//live.bilibili.com --- 直播\n",
      "//show.bilibili.com/platform/home.html?msource=pc_web --- 会员购\n",
      "//manga.bilibili.com --- 漫画\n",
      "https://bml.bilibili.com/ --- BML\n",
      "//app.bilibili.com --- 下载APP\n"
     ]
    }
   ],
   "source": [
    "import re\n",
    "\n",
    "html = '''\n",
    "<div class=\"nav-con fl\">\n",
    "    <ul>\n",
    "        <li report-id=\"playpage_main\" class=\"nav-item home\">\n",
    "            <a href=\"//www.bilibili.com\" title=\"主站\" class=\"t\">\n",
    "            <i class=\"header-iconfont header-icon-bilibili-tv\">\n",
    "            </i>主站\n",
    "    <!----></a><!---->\n",
    "    </li>\n",
    "        <li report-id=\"Webtab_click_audio\" class=\"nav-item mbili\">\n",
    "            <a href=\"//www.bilibili.com/audio/home/?type=10\" target=\"_blank\" title=\"来探索bilibili音乐的世界吧~\" class=\"t\">音频</a>\n",
    "        </li>\n",
    "        <li report-id=\"playpage_game\" class=\"nav-item game\">\n",
    "            <a href=\"//game.bilibili.com\" target=\"_blank\" title=\"游戏中心\" class=\"t\">游戏中心</a>\n",
    "            <div class=\"i-frame\" style=\"width: 680px; height: 260px; display: none;\">\n",
    "            <iframe src=\"https://www.bilibili.com/page-proxy/game-nav.html\" frameborder=\"0\" width=\"100%\" height=\"100%\"></iframe>\n",
    "            </div>\n",
    "        </li>\n",
    "        <li report-id=\"playpage_live\" class=\"nav-item live\">\n",
    "            <a href=\"//live.bilibili.com\" target=\"_blank\" title=\"直播\" class=\"t\">直播</a>\n",
    "<!----></li>\n",
    "        <li report-id=\"playpage_buy\" class=\"nav-item buy\">\n",
    "            <a href=\"//show.bilibili.com/platform/home.html?msource=pc_web\" target=\"_blank\" title=\"会员购\" class=\"t\">会员购</a>\n",
    "        </li>\n",
    "        <li report-id=\"playpage_manga\" class=\"nav-item manga\">\n",
    "            <a href=\"//manga.bilibili.com\" target=\"_blank\" title=\"漫画\" class=\"t\">漫画</a>\n",
    "        </li>\n",
    "        <li class=\"nav-item loc-menu\">\n",
    "            <a href=\"https://bml.bilibili.com/\" target=\"_blank\" class=\"t\">BML</a>\n",
    "<!----></li>\n",
    "<!----><li report-id=\"playpage_download\" class=\"nav-item mobile\">\n",
    "            <i class=\"header-iconfont header-icon-Navbar_mobile b-icon-app\"></i>\n",
    "            <a id=\"header-mobile-app\" href=\"//app.bilibili.com\" target=\"_blank\" title=\"下载APP\" class=\"t\">下载APP</a>\n",
    "<!----></li>\n",
    "    </ul>\n",
    "</div>\n",
    "'''\n",
    "\n",
    "results = re.findall('<a.*?href=\"(.*?)\".*?>(.*?)</a>',html)\n",
    "for result in results:\n",
    "    print(result[0],\"---\",result[1])"
   ]
  },
  {
   "cell_type": "markdown",
   "metadata": {},
   "source": [
    "# re.compile"
   ]
  },
  {
   "cell_type": "markdown",
   "metadata": {},
   "source": [
    "将一个正则表达式串编译成正则对象，以便于复用该匹配对象"
   ]
  },
  {
   "cell_type": "markdown",
   "metadata": {},
   "source": [
    "# 实战练习"
   ]
  },
  {
   "cell_type": "code",
   "execution_count": 1,
   "metadata": {},
   "outputs": [
    {
     "name": "stdout",
     "output_type": "stream",
     "text": [
      "('/Comic/comicInfo/id/622957', '暗黑革命', '', '')\n",
      "('/Comic/comicInfo/id/626832', '龙娘七七七埋藏的', '', '')\n",
      "('/Comic/comicInfo/id/638326', '碧阳学园学生会默', '', '')\n",
      "('/Comic/comicInfo/id/536117', '魔法的禁书目录', '', '')\n",
      "('/Comic/comicInfo/id/541392', '永生之酒', '', '')\n",
      "('/Comic/comicInfo/id/552204', '魔法的禁书目录S', '', '')\n",
      "('/Comic/comicInfo/id/549129', '重装武器', '', '')\n",
      "('/Comic/comicInfo/id/542718', '无头骑士异闻录S', '', '')\n",
      "('/Comic/comicInfo/id/547903', '奋斗吧！系统工程', '', '')\n",
      "('/Comic/comicInfo/id/547529', '龙与虎', '', '')\n",
      "('/Comic/comicInfo/id/541413', '天魔黑兔', '', '')\n",
      "('/Comic/comicInfo/id/551413', '黑色子弹', '', '')\n",
      "('/Comic/comicInfo/id/635592', '神样家族', '', '')\n",
      "('/Comic/comicInfo/id/634757', '为美好的世界献上', '', '')\n",
      "('/Comic/comicInfo/id/637677', '大传说中勇者的传', '', '')\n",
      "('/Comic/comicInfo/id/536137', '圣剑锻造师', '', '')\n",
      "('/Comic/comicInfo/id/551426', '金色时光', '', '')\n",
      "('/Comic/comicInfo/id/536079', '绯弹的亚里亚', '', '')\n",
      "('/Comic/comicInfo/id/637081', '传说的勇者的传说', '', '')\n",
      "('/Comic/comicInfo/id/631422', '魔装少女就是本少', '', '')\n",
      "('/Comic/comicInfo/id/536126', '魔王勇者', '', '')\n",
      "('/Comic/comicInfo/id/622456', '梦沉玛德拉', '', '')\n",
      "('/Comic/comicInfo/id/536151', '心灵链环', '', '')\n",
      "('/Comic/comicInfo/id/551411', '遗产尖兵', '', '')\n",
      "('/Comic/comicInfo/id/545415', '全金属狂潮 校园', '', '')\n",
      "('/Comic/comicInfo/id/536107', '机巧少女不受伤', '', '')\n",
      "('/Comic/comicInfo/id/542717', '甘城光辉游乐园', '', '')\n",
      "('/Comic/comicInfo/id/536069', '打工吧！魔王大人', '', '')\n",
      "('/Comic/comicInfo/id/635652', '星刻的龙骑士', '', '')\n",
      "('/Comic/comicInfo/id/635659', '大神系列', '', '')\n",
      "('/Comic/comicInfo/id/638326', '碧阳学园学生会默', '', '')\n",
      "('/Comic/comicInfo/id/542718', '无头骑士异闻录S', '', '')\n"
     ]
    }
   ],
   "source": [
    "import requests\n",
    "import re\n",
    "\n",
    "content = requests.get('https://ac.qq.com/Light').text\n",
    "pattern = re.compile('<div.*?update-item.*?href=\"(.*?)\".*?cover-name.*?>(.*?)</a>.*?(tag-item.*?>(.*?)</a>)*.*?</div>',re.S)\n",
    "results = re.findall(pattern,content)\n",
    "for result in results:\n",
    "    print(result)"
   ]
  }
 ],
 "metadata": {
  "kernelspec": {
   "display_name": "Python 3",
   "language": "python",
   "name": "python3"
  },
  "language_info": {
   "codemirror_mode": {
    "name": "ipython",
    "version": 3
   },
   "file_extension": ".py",
   "mimetype": "text/x-python",
   "name": "python",
   "nbconvert_exporter": "python",
   "pygments_lexer": "ipython3",
   "version": "3.7.3"
  }
 },
 "nbformat": 4,
 "nbformat_minor": 2
}
